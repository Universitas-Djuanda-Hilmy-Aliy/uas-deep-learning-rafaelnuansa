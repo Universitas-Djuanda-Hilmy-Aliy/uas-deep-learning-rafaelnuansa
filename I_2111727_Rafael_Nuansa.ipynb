{
  "nbformat": 4,
  "nbformat_minor": 0,
  "metadata": {
    "colab": {
      "provenance": []
    },
    "kernelspec": {
      "name": "python3",
      "display_name": "Python 3"
    },
    "language_info": {
      "name": "python"
    }
  },
  "cells": [
    {
      "cell_type": "markdown",
      "source": [
        "// 1. Nama dan NIM <br>\n",
        "Rafael Nuansa Ramadhon <br>\n",
        "NIM: i.2111727\n"
      ],
      "metadata": {
        "id": "wlibeTbNOWBR"
      }
    },
    {
      "cell_type": "code",
      "execution_count": 10,
      "metadata": {
        "id": "Xo5xTja7NvPy"
      },
      "outputs": [],
      "source": [
        "# 2. Code\n",
        "import matplotlib.pyplot as plt\n",
        "import tensorflow as tf\n",
        "from tensorflow.keras.datasets import cifar100\n",
        "import numpy as np\n",
        "import random"
      ]
    },
    {
      "cell_type": "code",
      "source": [
        "# 3. Code\n",
        "# Ambil dataset CIFAR-100 berdasarkan superclass (food_containers) dan bagi menjadi data training dan testing beserta labelnya\n",
        "(x_train, x_label), (y_test, y_label) = cifar100.load_data(label_mode='fine')\n"
      ],
      "metadata": {
        "id": "dLpMBgpgN0s0"
      },
      "execution_count": 39,
      "outputs": []
    },
    {
      "cell_type": "code",
      "source": [
        "\n",
        "# 4. Code\n",
        "# Sebutkan jumlah data gambar beserta ukurannya\n",
        "num_train_samples = len(x_label)\n",
        "num_test_samples = len(y_label)"
      ],
      "metadata": {
        "id": "n6C8bG2VN8iy"
      },
      "execution_count": 42,
      "outputs": []
    },
    {
      "cell_type": "code",
      "source": [
        "# 5. Code\n",
        "# Tampilkan seluruh class dari superclass yang dipilih dengan 1 gambar 1 kelas\n",
        "\n",
        "superclass_name = 'food_containers'\n",
        "indeks_superclass = {\"food_containers\": 3}\n",
        "\n",
        "plt.figure(figsize=(15, 3))\n",
        "for i, (nama_kelas, nama_indeks) in enumerate(indeks_superclass.items()):\n",
        "    indeks = np.where(x_label.flatten() == nama_indeks)[0][0]\n",
        "    plt.subplot(1, len(indeks_superclass), i + 1)\n",
        "    plt.imshow(x_train[indeks])\n",
        "    plt.title(nama_kelas)\n",
        "    plt.axis(\"off\")\n",
        "\n",
        "    num_images = len(np.where(x_label.flatten() == nama_indeks)[0])\n",
        "    image_size = x_train[indeks].shape\n",
        "    print(f\"Class: {nama_kelas}, Num Images: {num_images}, Image Size: {image_size}\")\n",
        "\n",
        "plt.show()"
      ],
      "metadata": {
        "colab": {
          "base_uri": "https://localhost:8080/",
          "height": 307
        },
        "id": "qz6CdImAOKYK",
        "outputId": "affb2e57-009b-4dfb-d5a3-4288d867d287"
      },
      "execution_count": 43,
      "outputs": [
        {
          "output_type": "stream",
          "name": "stdout",
          "text": [
            "Class: food_containers, Num Images: 500, Image Size: (32, 32, 3)\n"
          ]
        },
        {
          "output_type": "display_data",
          "data": {
            "text/plain": [
              "<Figure size 1500x300 with 1 Axes>"
            ],
            "image/png": "[encoded data removed]"
          },
          "metadata": {}
        }
      ]
    },
    {
      "cell_type": "code",
      "source": [
        "# 6. Code\n",
        "# Siapkan gambar training dan testing berdasarkan superclass (food_containers)\n",
        "# (Langkah ini dianggap sudah dilakukan sebelumnya)"
      ],
      "metadata": {
        "id": "RRYGCuwhS-EK"
      },
      "execution_count": 49,
      "outputs": []
    },
    {
      "cell_type": "code",
      "source": [
        "# 7. Code\n",
        "# Normalisasikan data sebelum masuk ke proses training\n",
        "x_train_normalized = x_train / 255.0\n",
        "y_test_normalized = y_test / 255.0"
      ],
      "metadata": {
        "id": "vN8MmzyqTfVe"
      },
      "execution_count": 48,
      "outputs": []
    },
    {
      "cell_type": "code",
      "source": [
        "# 8. Code\n",
        "# Buat model CNN sebagai model pertama dengan layer yang diperlukan\n",
        "model_cnn = tf.keras.Sequential([\n",
        "    tf.keras.layers.Conv2D(32, (3, 3), activation='relu', input_shape=(32, 32, 3)),\n",
        "    tf.keras.layers.MaxPooling2D((2, 2)),\n",
        "    tf.keras.layers.Flatten(),\n",
        "    tf.keras.layers.Dense(128, activation='relu'),\n",
        "    tf.keras.layers.Dense(100, activation='softmax')\n",
        "])"
      ],
      "metadata": {
        "id": "2h7Gw09QTqOG"
      },
      "execution_count": 51,
      "outputs": []
    },
    {
      "cell_type": "code",
      "source": [
        "# 9. Code\n",
        "# Buat model RCNN sebagai model kedua dengan layer yang diperlukan\n",
        "model_rcnn = tf.keras.Sequential([\n",
        "    tf.keras.layers.Reshape((32, 32, 3), input_shape=(32, 32, 3)),\n",
        "    tf.keras.layers.Conv2D(32, (3, 3), activation='relu'),\n",
        "    tf.keras.layers.MaxPooling2D((2, 2)),\n",
        "    tf.keras.layers.Flatten(),\n",
        "    tf.keras.layers.Dense(128, activation='relu'),\n",
        "    tf.keras.layers.Dense(100, activation='softmax')\n",
        "])"
      ],
      "metadata": {
        "id": "SPHjLKH9UAmP"
      },
      "execution_count": 52,
      "outputs": []
    },
    {
      "cell_type": "markdown",
      "source": [
        "## 10. Penjelasan Mengenai Lapisan (Layer) yang Digunakan pada CNN dan RCNN\n",
        "\n",
        "**CNN (Convolutional Neural Network) Layer:**\n",
        "1. Conv2D: Lapisan konvolusi dengan 32 filter dan kernel (3, 3), menggunakan aktivasi ReLU.\n",
        "2. MaxPooling2D: Lapisan max pooling dengan ukuran pool (2, 2).\n",
        "3. Flatten: Lapisan flatten untuk mengubah output 2D menjadi vektor 1D.\n",
        "4. Dense: Lapisan fully connected dengan 128 neuron, menggunakan aktivasi ReLU.\n",
        "5. Dense: Lapisan output dengan 100 neuron (asumsi 100 kelas pada CIFAR-100), menggunakan aktivasi softmax.\n",
        "\n",
        "**RCNN (Reshape + CNN) Layer:**\n",
        "1. Reshape: Lapisan reshape untuk mengubah input menjadi bentuk (32, 32, 3).\n",
        "2. Conv2D: Lapisan konvolusi dengan 32 filter dan kernel (3, 3), menggunakan aktivasi ReLU.\n",
        "3. MaxPooling2D: Lapisan max pooling dengan ukuran pool (2, 2).\n",
        "4. Flatten: Lapisan flatten untuk mengubah output 2D menjadi vektor 1D.\n",
        "5. Dense: Lapisan fully connected dengan 128 neuron, menggunakan aktivasi ReLU.\n",
        "6. Dense: Lapisan output dengan 100 neuron (asumsi 100 kelas pada CIFAR-100), menggunakan aktivasi softmax.\n"
      ],
      "metadata": {
        "id": "7ocHG4l4UI_v"
      }
    },
    {
      "cell_type": "code",
      "source": [
        "# 11. Code\n",
        "# Lakukan compile dan fit pada model pertama dengan hyperparameters yang diberikan\n",
        "model_cnn.compile(optimizer=tf.keras.optimizers.Adam(learning_rate=0.01),\n",
        "                  loss='sparse_categorical_crossentropy',\n",
        "                  metrics=['accuracy'])\n",
        "\n",
        "model_cnn.fit(x_train_normalized, x_label, epochs=10, batch_size=256)\n"
      ],
      "metadata": {
        "colab": {
          "base_uri": "https://localhost:8080/"
        },
        "id": "GeuDmHnXUTm2",
        "outputId": "d10e00a5-020b-4d77-828a-c744d590e8af"
      },
      "execution_count": 53,
      "outputs": [
        {
          "output_type": "stream",
          "name": "stdout",
          "text": [
            "Epoch 1/10\n",
            "196/196 [==============================] - 28s 140ms/step - loss: 4.1139 - accuracy: 0.0837\n",
            "Epoch 2/10\n",
            "196/196 [==============================] - 28s 144ms/step - loss: 3.5744 - accuracy: 0.1668\n",
            "Epoch 3/10\n",
            "196/196 [==============================] - 29s 150ms/step - loss: 3.4094 - accuracy: 0.1956\n",
            "Epoch 4/10\n",
            "196/196 [==============================] - 29s 146ms/step - loss: 3.2898 - accuracy: 0.2152\n",
            "Epoch 5/10\n",
            "196/196 [==============================] - 29s 146ms/step - loss: 3.1669 - accuracy: 0.2372\n",
            "Epoch 6/10\n",
            "196/196 [==============================] - 34s 175ms/step - loss: 3.0625 - accuracy: 0.2567\n",
            "Epoch 7/10\n",
            "196/196 [==============================] - 30s 152ms/step - loss: 3.0099 - accuracy: 0.2670\n",
            "Epoch 8/10\n",
            "196/196 [==============================] - 27s 137ms/step - loss: 2.9511 - accuracy: 0.2761\n",
            "Epoch 9/10\n",
            "196/196 [==============================] - 28s 144ms/step - loss: 2.9013 - accuracy: 0.2847\n",
            "Epoch 10/10\n",
            "196/196 [==============================] - 32s 163ms/step - loss: 2.8454 - accuracy: 0.2977\n"
          ]
        },
        {
          "output_type": "execute_result",
          "data": {
            "text/plain": [
              "<keras.src.callbacks.History at 0x7d95ea021570>"
            ]
          },
          "metadata": {},
          "execution_count": 53
        }
      ]
    },
    {
      "cell_type": "code",
      "source": [
        "# 12. Code\n",
        "# Lakukan compile dan fit pada model kedua dengan hyperparameter yang sama\n",
        "model_rcnn.compile(optimizer=tf.keras.optimizers.Adam(learning_rate=0.01),\n",
        "                   loss='sparse_categorical_crossentropy',\n",
        "                   metrics=['accuracy'])\n",
        "\n",
        "model_rcnn.fit(x_train_normalized, x_label, epochs=10, batch_size=256)"
      ],
      "metadata": {
        "colab": {
          "base_uri": "https://localhost:8080/"
        },
        "id": "n75QMv1VU4NG",
        "outputId": "a52ed05c-b585-4df1-b335-3aac8eec759c"
      },
      "execution_count": 54,
      "outputs": [
        {
          "output_type": "stream",
          "name": "stdout",
          "text": [
            "Epoch 1/10\n",
            "196/196 [==============================] - 37s 182ms/step - loss: 4.3501 - accuracy: 0.0459\n",
            "Epoch 2/10\n",
            "196/196 [==============================] - 29s 148ms/step - loss: 3.9355 - accuracy: 0.0986\n",
            "Epoch 3/10\n",
            "196/196 [==============================] - 28s 145ms/step - loss: 3.8238 - accuracy: 0.1165\n",
            "Epoch 4/10\n",
            "196/196 [==============================] - 30s 151ms/step - loss: 3.7645 - accuracy: 0.1249\n",
            "Epoch 5/10\n",
            "196/196 [==============================] - 28s 142ms/step - loss: 3.7196 - accuracy: 0.1328\n",
            "Epoch 6/10\n",
            "196/196 [==============================] - 27s 139ms/step - loss: 3.7025 - accuracy: 0.1380\n",
            "Epoch 7/10\n",
            "196/196 [==============================] - 27s 140ms/step - loss: 3.6544 - accuracy: 0.1460\n",
            "Epoch 8/10\n",
            "196/196 [==============================] - 28s 142ms/step - loss: 3.6412 - accuracy: 0.1477\n",
            "Epoch 9/10\n",
            "196/196 [==============================] - 29s 148ms/step - loss: 3.6165 - accuracy: 0.1522\n",
            "Epoch 10/10\n",
            "196/196 [==============================] - 27s 139ms/step - loss: 3.5993 - accuracy: 0.1566\n"
          ]
        },
        {
          "output_type": "execute_result",
          "data": {
            "text/plain": [
              "<keras.src.callbacks.History at 0x7d95e7b907c0>"
            ]
          },
          "metadata": {},
          "execution_count": 54
        }
      ]
    },
    {
      "cell_type": "code",
      "source": [
        "# 13. Code\n",
        "# Simpan kedua model tersebut\n",
        "model_cnn.save('model_cnn.h5')\n",
        "model_rcnn.save('model_rcnn.h5')\n",
        "\n",
        "# Muat kembali model\n",
        "loaded_model_cnn = tf.keras.models.load_model('model_cnn.h5')\n",
        "loaded_model_rcnn = tf.keras.models.load_model('model_rcnn.h5')\n"
      ],
      "metadata": {
        "id": "cKbGc4hFU-s_"
      },
      "execution_count": 56,
      "outputs": []
    },
    {
      "cell_type": "code",
      "source": [
        "# 14. Code\n",
        "# Berikan Plot accuracy berdasarkan model pertama\n",
        "plt.plot(model_cnn.history.history['accuracy'], label='CNN Training Accuracy')\n",
        "plt.xlabel('Epoch')\n",
        "plt.ylabel('Accuracy')\n",
        "plt.legend()\n",
        "plt.show()"
      ],
      "metadata": {
        "colab": {
          "base_uri": "https://localhost:8080/",
          "height": 449
        },
        "id": "0mX62HerVn_O",
        "outputId": "f162a2ac-3a78-4d5b-9ca7-b496e03461b3"
      },
      "execution_count": 57,
      "outputs": [
        {
          "output_type": "display_data",
          "data": {
            "text/plain": [
              "<Figure size 640x480 with 1 Axes>"
            ],
            "image/png": "[encoded data removed]"
          },
          "metadata": {}
        }
      ]
    },
    {
      "cell_type": "code",
      "source": [
        "# 15. Code\n",
        "# Berikan Plot accuracy berdasarkan model kedua\n",
        "plt.plot(model_rcnn.history.history['accuracy'], label='RCNN Training Accuracy')\n",
        "plt.xlabel('Epoch')\n",
        "plt.ylabel('Accuracy')\n",
        "plt.legend()\n",
        "plt.show()"
      ],
      "metadata": {
        "colab": {
          "base_uri": "https://localhost:8080/",
          "height": 449
        },
        "id": "bMl1_ZZ9VqJ1",
        "outputId": "f2414ca2-0f09-41a7-b7c6-401852dd6889"
      },
      "execution_count": 58,
      "outputs": [
        {
          "output_type": "display_data",
          "data": {
            "text/plain": [
              "<Figure size 640x480 with 1 Axes>"
            ],
            "image/png": "[encoded data removed]"
          },
          "metadata": {}
        }
      ]
    },
    {
      "cell_type": "markdown",
      "source": [
        "## 16. Kesimpulan Perbandingan Model Pertama dan Model Kedua\n",
        "\n",
        "Kesimpulandari hasil plot accuracy pada data Model pertama (CNN) Memiliki performa yang lebih baik dibandingkan dengan Model kedua (RCNN)."
      ],
      "metadata": {
        "id": "mR0NioKjVsE_"
      }
    }
  ]
}